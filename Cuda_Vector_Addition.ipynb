{
  "nbformat": 4,
  "nbformat_minor": 0,
  "metadata": {
    "colab": {
      "name": "Cuda Vector Addition",
      "provenance": []
    },
    "kernelspec": {
      "name": "python3",
      "display_name": "Python 3"
    },
    "language_info": {
      "name": "python"
    },
    "accelerator": "GPU"
  },
  "cells": [
    {
      "cell_type": "code",
      "metadata": {
        "id": "L5KQBa0TMN6X"
      },
      "source": [
        "!apt-get --purge remove cuda nvidia* libnvidia-*\n",
        "!dpkg -l | grep cuda- | awk '{print $2}' | xargs -n1 dpkg --purge\n",
        "!apt-get remove cuda-*\n",
        "!apt autoremove\n",
        "!apt-get update"
      ],
      "execution_count": null,
      "outputs": []
    },
    {
      "cell_type": "code",
      "metadata": {
        "id": "SKy-lJTuOS5I"
      },
      "source": [
        "!wget https://developer.nvidia.com/compute/cuda/9.2/Prod/local_installers/cuda-repo-ubuntu1604-9-2-local_9.2.88-1_amd64 -O cuda-repo-ubuntu1604-9-2-local_9.2.88-1_amd64.deb\n",
        "!dpkg -i cuda-repo-ubuntu1604-9-2-local_9.2.88-1_amd64.deb\n",
        "!apt-key add /var/cuda-repo-9-2-local/7fa2af80.pub\n",
        "!apt-get update\n",
        "!apt-get install cuda-9.2"
      ],
      "execution_count": null,
      "outputs": []
    },
    {
      "cell_type": "code",
      "metadata": {
        "id": "a72tCdqgOWTo"
      },
      "source": [
        "!nvcc --version"
      ],
      "execution_count": null,
      "outputs": []
    },
    {
      "cell_type": "code",
      "metadata": {
        "id": "YXclCg1uOZGp"
      },
      "source": [
        "!pip install git+git://github.com/andreinechaev/nvcc4jupyter.git"
      ],
      "execution_count": null,
      "outputs": []
    },
    {
      "cell_type": "code",
      "metadata": {
        "id": "ZamoAZLwOaxV"
      },
      "source": [
        "%load_ext nvcc_plugin"
      ],
      "execution_count": null,
      "outputs": []
    },
    {
      "cell_type": "code",
      "metadata": {
        "colab": {
          "base_uri": "https://localhost:8080/"
        },
        "id": "SlZx6pQUOcgz",
        "outputId": "399ba6d1-c6e4-4721-b99a-1eefc885bb55"
      },
      "source": [
        "!nvcc --version"
      ],
      "execution_count": 6,
      "outputs": [
        {
          "output_type": "stream",
          "text": [
            "nvcc: NVIDIA (R) Cuda compiler driver\n",
            "Copyright (c) 2005-2020 NVIDIA Corporation\n",
            "Built on Wed_Jul_22_19:09:09_PDT_2020\n",
            "Cuda compilation tools, release 11.0, V11.0.221\n",
            "Build cuda_11.0_bu.TC445_37.28845127_0\n"
          ],
          "name": "stdout"
        }
      ]
    },
    {
      "cell_type": "code",
      "metadata": {
        "colab": {
          "base_uri": "https://localhost:8080/"
        },
        "id": "X6KCnJpJdSX6",
        "outputId": "e46e65c8-61a1-4760-b044-b5160a5d7d2e"
      },
      "source": [
        "%%cu\n",
        "#include<stdio.h>\n",
        "#include<stdlib.h>\n",
        "__global__ void gpu_add(int* A,int* B, int* C , int M){\n",
        "    int thread = threadIdx.x + blockIdx.x *blockDim.x;\n",
        "    if(thread < M){\n",
        "    C[thread] = A[thread] + B[thread];\n",
        "    }\n",
        "}\n",
        "int main(){\n",
        "    int *h_a , *h_b , *h_c;\n",
        "    int m = 10;\n",
        "    /* printf(\"Enter the size of 1D array required for random number initialization\\n\");\n",
        "    scanf(\"%d\",&m); */\n",
        "    cudaMallocHost((void **)&h_a , sizeof(int)*m);\n",
        "    cudaMallocHost((void **)&h_b , sizeof(int)*m);\n",
        "    cudaMallocHost((void **)&h_c , sizeof(int)*m);\n",
        "\n",
        "    for (int i =0 ; i<m ; i++){\n",
        "        h_a[i] = rand() %100;\n",
        "        h_b[i] = rand() %100;\n",
        "    }\n",
        "    printf(\"Input String 1: \\n\");\n",
        "    for (int j =0; j < m ; j++){\n",
        "        printf(\"%d \",h_a[j]);\n",
        "    }\n",
        "\n",
        "    printf(\"\\nInput String 2: \\n\");\n",
        "        for (int j =0; j < m ; j++){\n",
        "        printf(\"%d \",h_b[j]);\n",
        "    }\n",
        "    int *a,*b,*c;\n",
        "    cudaMalloc((void **)&a,sizeof(int)*m);\n",
        "    cudaMalloc((void **)&b,sizeof(int)*m);\n",
        "    cudaMalloc((void **)&c,sizeof(int)*m);\n",
        "    cudaMemcpy(a,h_a,sizeof(int)*m,cudaMemcpyHostToDevice);\n",
        "    cudaMemcpy(b,h_b,sizeof(int)*m,cudaMemcpyHostToDevice);\n",
        "    gpu_add<<<ceil(m/256.0),256>>>(a,b,c,m);\n",
        "\n",
        "    cudaMemcpy(h_c,c,sizeof(int)*m,cudaMemcpyDeviceToHost);\n",
        "    printf(\"\\nResult is: \\n\");\n",
        "    for(int i=0;i<m;i++){\n",
        "        printf(\"%d \",h_c[i]);\n",
        "    }\n",
        "}"
      ],
      "execution_count": 36,
      "outputs": [
        {
          "output_type": "stream",
          "text": [
            "Input String 1: \n",
            "83 77 93 86 49 62 90 63 40 72 \n",
            "Input String 2: \n",
            "86 15 35 92 21 27 59 26 26 36 \n",
            "Result is: \n",
            "169 92 128 178 70 89 149 89 66 108 \n"
          ],
          "name": "stdout"
        }
      ]
    },
    {
      "cell_type": "code",
      "metadata": {
        "id": "JN_vX8SzdWL1"
      },
      "source": [
        ""
      ],
      "execution_count": null,
      "outputs": []
    }
  ]
}